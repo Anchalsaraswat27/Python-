{
 "cells": [
  {
   "cell_type": "markdown",
   "metadata": {},
   "source": [
    "___\n",
    "\n",
    "<a href='https://viqasys.com/wp-content/uploads/2021/07/ns1.png'><img src='https://viqasys.com/wp-content/uploads/2021/07/ns1.png'/></a>\n",
    "___\n",
    "<center><em>Content Copyright VIQASYS INNOVATIONS PVT LTD.</em></center>\n",
    "\n",
    "# Assignment 1"
   ]
  },
  {
   "cell_type": "markdown",
   "metadata": {},
   "source": [
    "# Question 1\n",
    "\n",
    "In the below elements, identify which of them are values or expressions. Values can be integers or strings, while expressions will be mathematical operators or combinations thereof.\r\n",
    "'hello', \n",
    "-87., ), o, lu, alu, ssion)'(Value))str\" (Value)"
   ]
  },
  {
   "cell_type": "markdown",
   "metadata": {},
   "source": [
    "'hello' - Value\n",
    "-87 - value\n",
    ") - Value\n",
    "o - value\n",
    "lu - value\n",
    "alu - value\n",
    "ssion- value"
   ]
  },
  {
   "cell_type": "markdown",
   "metadata": {},
   "source": [
    "## Question 2\n",
    "\n",
    "Explain the difference between a string and a variable.\n"
   ]
  },
  {
   "cell_type": "markdown",
   "metadata": {},
   "source": [
    "String:\r\n",
    "\r\n",
    "A string is a data type used to represent text in programming. It consists of a sequence of characters, such as letters, numbers, symbols, or spaces.\r\n",
    "Strings are typically enclosed within quotation marks (single or double) in most programming languages to distinguish them from other data types.\r\n",
    "Examples of strings:\r\n",
    "\"Hello, World!\"\r\n",
    "\"12345\"\r\n",
    "\"This is a string\"\r\n",
    "Strings are immutable in many programming languages, meaning their values cannot be changed once they are created. However, some languages provide methods or functions to manipulate \n",
    "\n",
    "Variable:\r\n",
    "\r\n",
    "A variable is a symbolic name that represents or refers to a value stored in the computer's memory. It acts as a container to hold data that can be manipulated and referenced in a program.\r\n",
    "Variables have a data type associated with them, which determines the type of data they can store (e.g., integers, floating-point numbers, strings, etc.).\r\n",
    "Unlike strings, variables can store various types of data, including strings.\r\n",
    "Variables are used to store and manipulate data throughout the program's execution. They provide flexibility and enable programmers to work with dynamic data.\r\n",
    "Examples of variables:\r\n",
    "name = \"John\"\r\n",
    "age = 25\r\n",
    "pi = 3.14strings."
   ]
  },
  {
   "cell_type": "markdown",
   "metadata": {},
   "source": [
    "## Question 3\n",
    "Describe three different data types commonly used in programming"
   ]
  },
  {
   "cell_type": "markdown",
   "metadata": {},
   "source": [
    "Integer (int):\r\n",
    "\r\n",
    "Integers represent whole numbers without any fractional component. They can be positive, negative, or zero.\r\n",
    "Integers are typically used to represent counts, indices, quantities, and other numeric values that do not require decimal precision.\r\n",
    "Examples of integers: -10, 0, 42, \n",
    "\n",
    "String:\r\n",
    "\r\n",
    "Strings are used to represent sequences of characters, such as letters, digits, and symbols.\r\n",
    "Strings are enclosed within single (' ') or double (\" \") quotation marks in most programming languages.\r\n",
    "They are commonly used for representing text-based data, such as names, sentences, file paths, and more.\r\n",
    "Examples of strings: \"Hello, World!\", \"Python\", \"1\n",
    "\n",
    "Floating-point (float):\r\n",
    "\r\n",
    "Floating-point numbers represent real numbers with a fractional part. They can represent a wide range of values, including both integers and fractions.\r\n",
    "Floats are used when decimal precision is needed, such as in scientific calculations, financial applications, and measurements.2345\"1001"
   ]
  },
  {
   "cell_type": "markdown",
   "metadata": {},
   "source": [
    "## Question 4\n",
    "What is an expression made up of? What is the general purpose of expressions?\n"
   ]
  },
  {
   "cell_type": "markdown",
   "metadata": {},
   "source": [
    "\n",
    "An expression in programming i  followin below-\n",
    "\n",
    "\r\n",
    "Literals are literal values representing fixed data. Examples include numbers, strings, characters, and boolean values.\r\n",
    "For example, in the expression 5 + 3, both 5 and 3 are literals.\r\n",
    "Variables:\r\n",
    "\r\n",
    "Var ables are symbols that represent storage locations in the computer's memory. They hold values that can change during the execution of a program.\r\n",
    "For example, in the expression x + 3, x is a va\r\n",
    "\r\n",
    "Operators are symbols that perform operations on one or more operands to produce a result.\r\n",
    "Examples of operators include arithmetic operators (+, -, *, /), comparison operators (==, !=, <, >, <=, >=), logical operators (&&, ||, !), assignment operators (=, +=, -=, *=, /=), etc.\r\n",
    "For example, in the expression 5 + 3, + is the addition operator.riable.:"
   ]
  },
  {
   "cell_type": "markdown",
   "metadata": {},
   "source": [
    "## Question 5\n",
    "\n",
    "Explain the difference between an expression and a statement, using examples if necessary."
   ]
  },
  {
   "cell_type": "markdown",
   "metadata": {},
   "source": [
    "Expression:\r\n",
    "\r\n",
    "An expression is a combination of values, variables, operators, and function calls that evaluates to a single value.\r\n",
    "Expressions are usually used to compute a value. They can be as simple as a single variable or literal value, or they can be more complex, involving multiple operations and function calls.\r\n",
    "Examples of expressio        ns:\r\n",
    "5         + 3\r\n",
    "x * (y         + 2)\r\n",
    "math.\n",
    "\n",
    "Statement:\r\n",
    "\r\n",
    "A statement is a complete line of code that performs an action. It represents a complete instruction or command that the computer should execute.\r\n",
    "Statements can include expressions, but they can also include other language constructs, such as declarations, assignments, loops, conditionals, function calls, and more.sqrt(9)"
   ]
  },
  {
   "cell_type": "markdown",
   "metadata": {},
   "source": [
    "## Question 6\n",
    "After running the following code, what does the variable \"bacon\" contain?\n",
    "\n",
    "bacon = 22 <br>\n",
    "\n",
    "bacon + 1"
   ]
  },
  {
   "cell_type": "code",
   "execution_count": 27,
   "metadata": {},
   "outputs": [
    {
     "data": {
      "text/plain": [
       "23"
      ]
     },
     "execution_count": 27,
     "metadata": {},
     "output_type": "execute_result"
    }
   ],
   "source": [
    "23"
   ]
  },
  {
   "cell_type": "markdown",
   "metadata": {},
   "source": [
    "## Question 7\n",
    "Determine the values of the following two terms:<br>\n",
    "'spam' + 'spamspam'<br>\r\n",
    "'spam' * 3\r\n",
    "\n"
   ]
  },
  {
   "cell_type": "markdown",
   "metadata": {},
   "source": [
    "- spamspamspan\n",
    "- spamspamspam"
   ]
  },
  {
   "cell_type": "markdown",
   "metadata": {},
   "source": [
    "## Question 8\n",
    "\n",
    "Why is \"eggs\" a valid variable name while \"100\" is invalid?"
   ]
  },
  {
   "cell_type": "markdown",
   "metadata": {},
   "source": [
    "In python programming languages, variable names are used to represent data or values in the program. Allowing variable names to start with letters makes them more expressive and distinguishable from numeric literals. This convention helps maintain clarity and readability in the code."
   ]
  },
  {
   "cell_type": "markdown",
   "metadata": {},
   "source": [
    "## Question 9\n",
    "\n",
    "List three functions that can be used to obtain the integer, floating-point number, or string version of a value."
   ]
  },
  {
   "cell_type": "markdown",
   "metadata": {},
   "source": [
    "- int()\n",
    "- str()\n",
    "- float()"
   ]
  },
  {
   "cell_type": "markdown",
   "metadata": {},
   "source": [
    "## Question 10 \n",
    "Explain why the following expression causes an error and suggest how to fix it:<br>\n",
    "'I have eaten ' + 99 + ' burritos.'\r\n",
    "\n"
   ]
  },
  {
   "cell_type": "markdown",
   "metadata": {},
   "source": [
    "The expression 'I have eaten ' + 99 + ' burritos.' causes an error because it attempts to concatenate a string ('I have eaten ') with an integer (99) directly, which is not allowed in Python."
   ]
  },
  {
   "cell_type": "markdown",
   "metadata": {},
   "source": [
    "## Question 11\n",
    "Write a Python program to calculate the sum of two numbers and print the result.\r\n",
    "gative, or zero."
   ]
  },
  {
   "cell_type": "code",
   "execution_count": 21,
   "metadata": {},
   "outputs": [
    {
     "name": "stdin",
     "output_type": "stream",
     "text": [
      "Enter the first number:  5\n",
      "Enter the second number:  6\n"
     ]
    },
    {
     "name": "stdout",
     "output_type": "stream",
     "text": [
      "The sum of two numbers is : 11\n"
     ]
    }
   ],
   "source": [
    "x = int(input(\"Enter the first number: \"))\n",
    "y = int(input(\"Enter the second number: \"))\n",
    "sum = x+y\n",
    "print(\"The sum of two numbers is :\", sum)"
   ]
  },
  {
   "cell_type": "markdown",
   "metadata": {},
   "source": [
    "## Question 12\n",
    "Create a Python program that takes the user's name as input and prints a greeting message.\n",
    "\n"
   ]
  },
  {
   "cell_type": "code",
   "execution_count": 5,
   "metadata": {},
   "outputs": [
    {
     "name": "stdin",
     "output_type": "stream",
     "text": [
      "Enter your name:  anchal\n"
     ]
    },
    {
     "name": "stdout",
     "output_type": "stream",
     "text": [
      "Hello,  anchal\n"
     ]
    }
   ],
   "source": [
    "name = input(\"Enter your name: \")\n",
    "print(\"Hello, \", name)"
   ]
  },
  {
   "cell_type": "markdown",
   "metadata": {},
   "source": [
    "## Question 13\n",
    "Write a Python program to calculate the area of a rectangle given its length and width. (Assume length and width are provided as inputs.)\n",
    "\n"
   ]
  },
  {
   "cell_type": "code",
   "execution_count": 7,
   "metadata": {},
   "outputs": [
    {
     "name": "stdin",
     "output_type": "stream",
     "text": [
      "Enter the length of the rectangle:  10\n",
      "Enter the width of the rectangle:  20\n"
     ]
    },
    {
     "name": "stdout",
     "output_type": "stream",
     "text": [
      "200.0\n"
     ]
    }
   ],
   "source": [
    "length = float(input(\"Enter the length of the rectangle: \"))\n",
    "width = float(input(\"Enter the width of the rectangle: \"))\n",
    "area = length * width\n",
    "print(area)"
   ]
  },
  {
   "cell_type": "markdown",
   "metadata": {},
   "source": [
    "## Question 14\n",
    "Create a Python program that asks the user for their age and prints out a message saying whether they are a child, teenager, or adult based on their age.\n",
    "\n"
   ]
  },
  {
   "cell_type": "code",
   "execution_count": 19,
   "metadata": {},
   "outputs": [
    {
     "name": "stdin",
     "output_type": "stream",
     "text": [
      "Enter age:  66\n"
     ]
    },
    {
     "name": "stdout",
     "output_type": "stream",
     "text": [
      "Adult\n"
     ]
    }
   ],
   "source": [
    "a = int(input(\"Enter age: \"))\n",
    "if a < 0:\n",
    "    print(\"Invalid age.....\")\n",
    "elif a < 13:\n",
    "    print(\"Child\")\n",
    "elif a < 20:\n",
    "    print(\"Teenager\")\n",
    "else:\n",
    "    print(\"Adult\")"
   ]
  },
  {
   "cell_type": "markdown",
   "metadata": {},
   "source": [
    "## Question 15\n",
    "Write a Python program to convert temperature from Celsius to Fahrenheit. (Assume Celsius temperature is provided as input.)\n",
    "\n"
   ]
  },
  {
   "cell_type": "code",
   "execution_count": 17,
   "metadata": {},
   "outputs": [
    {
     "name": "stdin",
     "output_type": "stream",
     "text": [
      "Please enter the temperature:  5\n"
     ]
    },
    {
     "name": "stdout",
     "output_type": "stream",
     "text": [
      "The temperature in Fahrenheit is: 41.0\n"
     ]
    }
   ],
   "source": [
    "c = float(input(\"Please enter the temperature: \"))\n",
    "f = (c * 9/5) + 32\n",
    "print(\"The temperature in Fahrenheit is:\", f)"
   ]
  },
  {
   "cell_type": "markdown",
   "metadata": {},
   "source": [
    "## Question 16\n",
    "Create a Python program that takes the radius of a circle as input and calculates its area. (Assume the value of pi is 3.14.)"
   ]
  },
  {
   "cell_type": "code",
   "execution_count": 16,
   "metadata": {},
   "outputs": [
    {
     "name": "stdout",
     "output_type": "stream",
     "text": [
      "Area of Circle is 452.15999999999997\n"
     ]
    }
   ],
   "source": [
    "r = 12\n",
    "area_of_circle = 3.14*r*r\n",
    "print(\"Area of Circle is\", area_of_circle)"
   ]
  },
  {
   "cell_type": "markdown",
   "metadata": {},
   "source": [
    "## Question 17\n",
    "Write a Python program to find the maximum of two numbers entered by the user.\n",
    "\n"
   ]
  },
  {
   "cell_type": "code",
   "execution_count": 15,
   "metadata": {},
   "outputs": [
    {
     "name": "stdin",
     "output_type": "stream",
     "text": [
      "First number:  5\n",
      "Second number:  6\n"
     ]
    },
    {
     "name": "stdout",
     "output_type": "stream",
     "text": [
      "The maximum number is: 6\n"
     ]
    }
   ],
   "source": [
    "n1 = int(input(\"First number: \"))\n",
    "n2 = int(input(\"Second number: \"))\n",
    "maximum_number = max(n1, n2)\n",
    "print(\"The maximum number is:\", maximum_number)"
   ]
  },
  {
   "cell_type": "markdown",
   "metadata": {},
   "source": [
    "## Question 18\n",
    "Create a Python program that asks the user to enter two numbers and prints out their product.\n",
    "\n"
   ]
  },
  {
   "cell_type": "code",
   "execution_count": 10,
   "metadata": {},
   "outputs": [
    {
     "name": "stdin",
     "output_type": "stream",
     "text": [
      "Enter the first number:  2\n",
      "Enter the second number:  3\n"
     ]
    },
    {
     "name": "stdout",
     "output_type": "stream",
     "text": [
      "The product of two number is :  6\n"
     ]
    }
   ],
   "source": [
    "num1 = int(input(\"Enter the first number: \"))\n",
    "num2 = int(input(\"Enter the second number: \"))\n",
    "product = num1 * num2\n",
    "\n",
    "print(\"The product of two number is : \", product)"
   ]
  },
  {
   "cell_type": "markdown",
   "metadata": {},
   "source": [
    "## Question 19\n",
    "Write a Python program that prompts the user to enter a number and then prints whether the number is positive, negative, or zero."
   ]
  },
  {
   "cell_type": "code",
   "execution_count": 11,
   "metadata": {},
   "outputs": [
    {
     "name": "stdin",
     "output_type": "stream",
     "text": [
      "Enter a number:  5\n"
     ]
    },
    {
     "name": "stdout",
     "output_type": "stream",
     "text": [
      "The number is positive.\n"
     ]
    }
   ],
   "source": [
    "n = int(input(\"Enter a number: \"))\n",
    "if n > 0:\n",
    "    print(\"The number is positive.\")\n",
    "elif n < 0:\n",
    "    print(\"The number is negative.\")\n",
    "else:\n",
    "    print(\"The number is zero.\")"
   ]
  }
 ],
 "metadata": {
  "anaconda-cloud": {},
  "kernelspec": {
   "display_name": "Python 3 (ipykernel)",
   "language": "python",
   "name": "python3"
  },
  "language_info": {
   "codemirror_mode": {
    "name": "ipython",
    "version": 3
   },
   "file_extension": ".py",
   "mimetype": "text/x-python",
   "name": "python",
   "nbconvert_exporter": "python",
   "pygments_lexer": "ipython3",
   "version": "3.10.9"
  }
 },
 "nbformat": 4,
 "nbformat_minor": 4
}
